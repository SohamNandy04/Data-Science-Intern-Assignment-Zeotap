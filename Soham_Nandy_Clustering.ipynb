{
 "cells": [
  {
   "cell_type": "code",
   "execution_count": 66,
   "id": "1318240f-cdae-42c2-bdbc-f097d05cf06c",
   "metadata": {},
   "outputs": [],
   "source": [
    "import pandas as pd"
   ]
  },
  {
   "cell_type": "code",
   "execution_count": 67,
   "id": "67d9d678-923b-4b75-8a58-2961128aa43b",
   "metadata": {},
   "outputs": [],
   "source": [
    "# Loaded the datasets\n",
    "customers = pd.read_csv(\"F:/ZEOTAP_DataScience_Assignment/Customers.csv\")\n",
    "transactions = pd.read_csv(\"F:/ZEOTAP_DataScience_Assignment/Transactions.csv\")"
   ]
  },
  {
   "cell_type": "code",
   "execution_count": 68,
   "id": "487456c8-53f4-4e67-9131-af107d64de44",
   "metadata": {},
   "outputs": [
    {
     "name": "stdout",
     "output_type": "stream",
     "text": [
      "  TransactionID CustomerID ProductID      TransactionDate  Quantity  \\\n",
      "0        T00001      C0199      P067  2024-08-25 12:38:23         1   \n",
      "1        T00112      C0146      P067  2024-05-27 22:23:54         1   \n",
      "2        T00166      C0127      P067  2024-04-25 07:38:55         1   \n",
      "3        T00272      C0087      P067  2024-03-26 22:55:37         2   \n",
      "4        T00363      C0070      P067  2024-03-21 15:10:10         3   \n",
      "\n",
      "   TotalValue  Price_x     CustomerName         Region  SignupDate  \\\n",
      "0      300.68   300.68   Andrea Jenkins         Europe  2022-12-03   \n",
      "1      300.68   300.68  Brittany Harvey           Asia  2024-09-04   \n",
      "2      300.68   300.68  Kathryn Stevens         Europe  2024-04-04   \n",
      "3      601.36   300.68  Travis Campbell  South America  2024-04-11   \n",
      "4      902.04   300.68    Timothy Perez         Europe  2022-03-15   \n",
      "\n",
      "                       ProductName     Category  Price_y  \n",
      "0  ComfortLiving Bluetooth Speaker  Electronics   300.68  \n",
      "1  ComfortLiving Bluetooth Speaker  Electronics   300.68  \n",
      "2  ComfortLiving Bluetooth Speaker  Electronics   300.68  \n",
      "3  ComfortLiving Bluetooth Speaker  Electronics   300.68  \n",
      "4  ComfortLiving Bluetooth Speaker  Electronics   300.68  \n"
     ]
    }
   ],
   "source": [
    "# Merged datasets\n",
    "merged_data = transactions.merge(customers, on='CustomerID').merge(products, on='ProductID')\n",
    "print(merged_data.head())"
   ]
  },
  {
   "cell_type": "code",
   "execution_count": 26,
   "id": "d3723c2f-64aa-41a4-846b-153a6e560729",
   "metadata": {},
   "outputs": [
    {
     "name": "stdout",
     "output_type": "stream",
     "text": [
      "Customer Spending Before Normalizing: \n",
      "   CustomerID         Region  TotalValue\n",
      "0      C0001  South America     3354.52\n",
      "1      C0002           Asia     1862.74\n",
      "2      C0003  South America     2725.38\n",
      "3      C0004  South America     5354.88\n",
      "4      C0005           Asia     2034.24\n",
      "Customer Spending After Normalizing: \n",
      "   CustomerID         Region  TotalValue\n",
      "0      C0001  South America    0.308942\n",
      "1      C0002           Asia    0.168095\n",
      "2      C0003  South America    0.249541\n",
      "3      C0004  South America    0.497806\n",
      "4      C0005           Asia    0.184287\n"
     ]
    }
   ],
   "source": [
    "# Created total spending per customer and region\n",
    "customer_spending = merged_data.groupby(['CustomerID','Region'])['TotalValue'].sum().reset_index()\n",
    "print(\"Customer Spending Before Normalizing: \\n\", customer_spending.head())\n",
    "\n",
    "# Normalizing the feature\n",
    "from sklearn.preprocessing import MinMaxScaler\n",
    "scaler = MinMaxScaler()\n",
    "customer_spending['TotalValue'] = scaler.fit_transform(customer_spending[['TotalValue']])\n",
    "print(\"Customer Spending After Normalizing: \\n\", customer_spending.head())"
   ]
  },
  {
   "cell_type": "code",
   "execution_count": 27,
   "id": "9935ece6-3105-4565-ae62-0ccdcabb39c0",
   "metadata": {},
   "outputs": [
    {
     "name": "stdout",
     "output_type": "stream",
     "text": [
      "  CustomerID        CustomerName       Region_x  SignupDate       Region_y  \\\n",
      "0      C0001    Lawrence Carroll  South America  2022-07-10  South America   \n",
      "1      C0002      Elizabeth Lutz           Asia  2022-02-13           Asia   \n",
      "2      C0003      Michael Rivera  South America  2024-03-07  South America   \n",
      "3      C0004  Kathleen Rodriguez  South America  2022-10-09  South America   \n",
      "4      C0005         Laura Weber           Asia  2022-08-15           Asia   \n",
      "\n",
      "   TotalValue  \n",
      "0    0.308942  \n",
      "1    0.168095  \n",
      "2    0.249541  \n",
      "3    0.497806  \n",
      "4    0.184287  \n"
     ]
    }
   ],
   "source": [
    "# Created additional features for clustering\n",
    "features = customers.merge(customer_spending, on='CustomerID')\n",
    "print(features.head())"
   ]
  },
  {
   "cell_type": "code",
   "execution_count": 81,
   "id": "a8280b18-3324-4116-927e-93b466648ffd",
   "metadata": {},
   "outputs": [
    {
     "name": "stdout",
     "output_type": "stream",
     "text": [
      "DB Index: 0.5494920132693868\n"
     ]
    }
   ],
   "source": [
    "from sklearn.cluster import KMeans\n",
    "from sklearn.metrics import davies_bouldin_score\n",
    "\n",
    "# Applying K-Means Clustering\n",
    "kmeans = KMeans(n_clusters=4, random_state=30)\n",
    "features['Cluster'] = kmeans.fit_predict(features[['TotalValue']])\n",
    "\n",
    "# Evaluating using DB Index\n",
    "db_index = davies_bouldin_score(features[['TotalValue']], features['Cluster'])\n",
    "print(f'DB Index: {db_index}')"
   ]
  },
  {
   "cell_type": "code",
   "execution_count": 56,
   "id": "34f5fb79-8029-416c-8de6-50830b94149a",
   "metadata": {},
   "outputs": [],
   "source": [
    "import matplotlib.pyplot as plt\n",
    "import seaborn as sns"
   ]
  },
  {
   "cell_type": "code",
   "execution_count": 61,
   "id": "98145016-5a9f-42bf-8547-0e7bce287aa8",
   "metadata": {},
   "outputs": [
    {
     "data": {
      "image/png": "[encoded data removed]",
      "text/plain": [
       "<Figure size 640x480 with 1 Axes>"
      ]
     },
     "metadata": {},
     "output_type": "display_data"
    }
   ],
   "source": [
    "# Visualizing clusters\n",
    "sns.scatterplot(data=features, x='TotalValue', y='Cluster', hue='Cluster')\n",
    "plt.title('Customer Clustering')\n",
    "plt.show()"
   ]
  },
  {
   "cell_type": "code",
   "execution_count": null,
   "id": "cca3caa7-a131-4009-a3b4-72ac47ffd15a",
   "metadata": {},
   "outputs": [],
   "source": []
  }
 ],
 "metadata": {
  "kernelspec": {
   "display_name": "Python 3 (ipykernel)",
   "language": "python",
   "name": "python3"
  },
  "language_info": {
   "codemirror_mode": {
    "name": "ipython",
    "version": 3
   },
   "file_extension": ".py",
   "mimetype": "text/x-python",
   "name": "python",
   "nbconvert_exporter": "python",
   "pygments_lexer": "ipython3",
   "version": "3.12.3"
  }
 },
 "nbformat": 4,
 "nbformat_minor": 5
}
