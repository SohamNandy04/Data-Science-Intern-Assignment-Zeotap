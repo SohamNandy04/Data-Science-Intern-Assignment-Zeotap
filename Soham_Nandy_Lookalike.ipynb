{
 "cells": [
  {
   "cell_type": "code",
   "execution_count": 2,
   "id": "0bbf8649-96f7-42c3-9bc4-35e99aa37660",
   "metadata": {},
   "outputs": [],
   "source": [
    "import pandas as pd"
   ]
  },
  {
   "cell_type": "code",
   "execution_count": 3,
   "id": "0eceeaae-1aec-4aa7-9459-74c60bf265ee",
   "metadata": {},
   "outputs": [],
   "source": [
    "# Loaded the datasets\n",
    "customers = pd.read_csv(\"F:/ZEOTAP_DataScience_Assignment/Customers.csv\")\n",
    "products = pd.read_csv(\"F:/ZEOTAP_DataScience_Assignment/Products.csv\")\n",
    "transactions = pd.read_csv(\"F:/ZEOTAP_DataScience_Assignment/Transactions.csv\")"
   ]
  },
  {
   "cell_type": "code",
   "execution_count": 4,
   "id": "28f4008c-90a8-44fb-b59e-b04bdb4058fa",
   "metadata": {},
   "outputs": [
    {
     "name": "stdout",
     "output_type": "stream",
     "text": [
      "  TransactionID CustomerID ProductID TransactionDate  Quantity  TotalValue  \\\n",
      "0        T00001      C0199      P067  25-08-24 12:38         1      300.68   \n",
      "1        T00112      C0146      P067  27-05-24 22:23         1      300.68   \n",
      "2        T00166      C0127      P067   25-04-24 7:38         1      300.68   \n",
      "3        T00272      C0087      P067  26-03-24 22:55         2      601.36   \n",
      "4        T00363      C0070      P067  21-03-24 15:10         3      902.04   \n",
      "\n",
      "   Price_x     CustomerName         Region  SignupDate  \\\n",
      "0   300.68   Andrea Jenkins         Europe  2022-12-03   \n",
      "1   300.68  Brittany Harvey           Asia  2024-09-04   \n",
      "2   300.68  Kathryn Stevens         Europe  2024-04-04   \n",
      "3   300.68  Travis Campbell  South America  2024-04-11   \n",
      "4   300.68    Timothy Perez         Europe  2022-03-15   \n",
      "\n",
      "                       ProductName     Category  Price_y  \n",
      "0  ComfortLiving Bluetooth Speaker  Electronics   300.68  \n",
      "1  ComfortLiving Bluetooth Speaker  Electronics   300.68  \n",
      "2  ComfortLiving Bluetooth Speaker  Electronics   300.68  \n",
      "3  ComfortLiving Bluetooth Speaker  Electronics   300.68  \n",
      "4  ComfortLiving Bluetooth Speaker  Electronics   300.68  \n"
     ]
    }
   ],
   "source": [
    "# Merged datasets\n",
    "merged_data = transactions.merge(customers, on='CustomerID').merge(products, on='ProductID')\n",
    "print(merged_data.head())"
   ]
  },
  {
   "cell_type": "code",
   "execution_count": 18,
   "id": "164f49a0-3b31-43d5-99c5-1f88d29eb414",
   "metadata": {},
   "outputs": [
    {
     "name": "stdout",
     "output_type": "stream",
     "text": [
      "Customer Spending Before Normalizing: \n",
      "   CustomerID         Region  TotalValue\n",
      "0      C0001  South America     3354.52\n",
      "1      C0002           Asia     1862.74\n",
      "2      C0003  South America     2725.38\n",
      "3      C0004  South America     5354.88\n",
      "4      C0005           Asia     2034.24\n",
      "Customer Spending After Normalizing: \n",
      "   CustomerID         Region  TotalValue\n",
      "0      C0001  South America    0.308942\n",
      "1      C0002           Asia    0.168095\n",
      "2      C0003  South America    0.249541\n",
      "3      C0004  South America    0.497806\n",
      "4      C0005           Asia    0.184287\n"
     ]
    }
   ],
   "source": [
    "# Created total spending per customer and region\n",
    "customer_spending = merged_data.groupby(['CustomerID','Region'])['TotalValue'].sum().reset_index()\n",
    "print(\"Customer Spending Before Normalizing: \\n\", customer_spending.head())\n",
    "\n",
    "# Normalizing the feature if required\n",
    "from sklearn.preprocessing import MinMaxScaler\n",
    "scaler = MinMaxScaler()\n",
    "customer_spending['TotalValue'] = scaler.fit_transform(customer_spending[['TotalValue']])\n",
    "print(\"Customer Spending After Normalizing: \\n\", customer_spending.head())"
   ]
  },
  {
   "cell_type": "code",
   "execution_count": 17,
   "id": "a8b11d0d-6a7c-4616-ad73-8ed01106661d",
   "metadata": {},
   "outputs": [],
   "source": [
    "from sklearn.neighbors import NearestNeighbors\n",
    "\n",
    "# Using KNN for finding similar customers\n",
    "knn = NearestNeighbors(n_neighbors=3)\n",
    "knn.fit(customer_spending[['TotalValue']])\n",
    "distances, indices = knn.kneighbors(customer_spending[['TotalValue']])\n",
    "\n",
    "# Created a DataFrame of lookalike customers and similarity scores\n",
    "lookalike_df = pd.DataFrame({\n",
    "    'CustomerID': customer_spending['CustomerID'],\n",
    "    'Lookalike1': customer_spending.iloc[indices[:, 0]]['CustomerID'].values,\n",
    "    'Lookalike2': customer_spending.iloc[indices[:, 1]]['CustomerID'].values,\n",
    "    'Lookalike3': customer_spending.iloc[indices[:, 2]]['CustomerID'].values,\n",
    "    'Similarity1': distances[:, 0],\n",
    "    'Similarity2': distances[:, 1],\n",
    "    'Similarity3': distances[:, 2]\n",
    "})\n",
    "\n",
    "# Saved the top 3 lookalikes with similarity scores for the first 20 customers\n",
    "lookalike_df.head(20).to_csv('Soham_Nandy_Lookalike.csv', index=False)\n"
   ]
  },
  {
   "cell_type": "code",
   "execution_count": null,
   "id": "832ebc28-41ed-47f0-9be4-0b4bdccf33e3",
   "metadata": {},
   "outputs": [],
   "source": []
  }
 ],
 "metadata": {
  "kernelspec": {
   "display_name": "Python 3 (ipykernel)",
   "language": "python",
   "name": "python3"
  },
  "language_info": {
   "codemirror_mode": {
    "name": "ipython",
    "version": 3
   },
   "file_extension": ".py",
   "mimetype": "text/x-python",
   "name": "python",
   "nbconvert_exporter": "python",
   "pygments_lexer": "ipython3",
   "version": "3.12.3"
  }
 },
 "nbformat": 4,
 "nbformat_minor": 5
}
